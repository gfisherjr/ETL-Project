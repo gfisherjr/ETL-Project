{
 "cells": [
  {
   "cell_type": "markdown",
   "metadata": {},
   "source": [
    "# ETL Project - Benjamin Aubry, Gary Fisher, and Bruce Mark"
   ]
  },
  {
   "cell_type": "markdown",
   "metadata": {},
   "source": [
    "## Instructions for Importing Quandl Data Function:\n",
    "#### Install Code: pip install quandl\n",
    "#### Dependencies: import quandl\n",
    "##### Reference: https://docs.quandl.com/docs/python-installation"
   ]
  },
  {
   "cell_type": "markdown",
   "metadata": {},
   "source": [
    "## Instructions for Importing Fed Data Function:\n",
    "#### Install Code: pip install datapungi_fed\n",
    "#### Dependencies: import datapungi_fed as dpf\n",
    "##### Reference: https://github.com/jjotterson/datapungi_fed"
   ]
  },
  {
   "cell_type": "code",
   "execution_count": 1,
   "metadata": {},
   "outputs": [],
   "source": [
    "#Import Dependencies\n",
    "import pandas as pd\n",
    "import pymongo\n",
    "import numpy as np\n",
    "import requests\n",
    "import sys\n",
    "import os.path\n",
    "import datetime as dt\n",
    "import pprint\n",
    "\n",
    "import quandl\n",
    "import datapungi_fed as dpf\n",
    "\n",
    "from quandl_apitoken import api_key\n",
    "from api_keys import fred_api_key\n",
    "from bs4 import BeautifulSoup as bs\n",
    "from pymongo import MongoClient"
   ]
  },
  {
   "cell_type": "markdown",
   "metadata": {},
   "source": [
    "## Extract and Transform\n",
    "\n",
    "### Quandl"
   ]
  },
  {
   "cell_type": "code",
   "execution_count": 2,
   "metadata": {},
   "outputs": [],
   "source": [
    "#Quandl API call- pull copper and gold and convert to csv\n",
    "\n",
    "try:\n",
    "    copper_download = quandl.get(\"CHRIS/CME_HG2\", authtoken=api_key)\n",
    "    gold_download = quandl.get(\"CHRIS/CME_GC2\", authtoken=api_key)\n",
    "    copper_download.to_csv(\"data_export_files/copper_2nd.csv\")\n",
    "    gold_download.to_csv(\"data_export_files/gold_2nd.csv\")\n",
    "\n",
    "except Exception as e:\n",
    "    print(e)"
   ]
  },
  {
   "cell_type": "code",
   "execution_count": 3,
   "metadata": {},
   "outputs": [],
   "source": [
    "try:\n",
    "    silver_download = quandl.get(\"CHRIS/CME_SI2\", authtoken=api_key)\n",
    "    crude_download = quandl.get(\"CHRIS/CME_CL2\", authtoken=api_key)\n",
    "    silver_download.to_csv(\"data_export_files/silver_2nd.csv\")\n",
    "    crude_download.to_csv(\"data_export_files/crude_2nd.csv\")\n",
    "\n",
    "except Exception as e:\n",
    "    print(e)"
   ]
  },
  {
   "cell_type": "code",
   "execution_count": null,
   "metadata": {},
   "outputs": [],
   "source": [
    "try:\n",
    "    natgas_download = quandl.get(\"CHRIS/CME_NG2\", authtoken=api_key)\n",
    "    corn_download = quandl.get(\"CHRIS/CME_C2\", authtoken=api_key)\n",
    "    natgas_download.to_csv(\"data_export_files/natgas_2nd.csv\")\n",
    "    corn_download.to_csv(\"data_export_files/corn_2nd.csv\")\n",
    "\n",
    "except Exception as e:\n",
    "    print(e)"
   ]
  },
  {
   "cell_type": "code",
   "execution_count": null,
   "metadata": {},
   "outputs": [],
   "source": [
    "try:\n",
    "    livecatt_download = quandl.get(\"CHRIS/CME_LC2\", authtoken=api_key)\n",
    "    wheat_download = quandl.get(\"CHRIS/CME_KW2\", authtoken=api_key)\n",
    "    livecatt_download.to_csv(\"data_export_files/livecatt_2nd.csv\")\n",
    "    wheat_download.to_csv(\"data_export_files/K_Wheat_2nd.csv\")\n",
    "\n",
    "except Exception as e:\n",
    "    print(e)"
   ]
  },
  {
   "cell_type": "code",
   "execution_count": null,
   "metadata": {},
   "outputs": [],
   "source": [
    "csv_file = os.path.join(\"data_export_files/copper_2nd.csv\")\n",
    "copper_raw_df = pd.read_csv(csv_file)\n",
    "\n",
    "copper_df = copper_raw_df[[\"Date\", \"Open\", \"High\", \"Low\",\"Settle\",\"Volume\"]].copy()\n",
    "copper_df.head()"
   ]
  },
  {
   "cell_type": "code",
   "execution_count": null,
   "metadata": {},
   "outputs": [],
   "source": [
    "csv_file = os.path.join(\"data_export_files/gold_2nd.csv\")\n",
    "gold_raw_df = pd.read_csv(csv_file)\n",
    "\n",
    "gold_df = gold_raw_df[[\"Date\", \"Open\", \"High\", \"Low\",\"Settle\",\"Volume\"]].copy()\n",
    "gold_df.head()"
   ]
  },
  {
   "cell_type": "code",
   "execution_count": null,
   "metadata": {},
   "outputs": [],
   "source": [
    "csv_file = os.path.join(\"data_export_files/silver_2nd.csv\")\n",
    "silver_raw_df = pd.read_csv(csv_file)\n",
    "\n",
    "silver_df = silver_raw_df[[\"Date\", \"Open\", \"High\", \"Low\",\"Settle\",\"Volume\"]].copy()\n",
    "silver_df.head()"
   ]
  },
  {
   "cell_type": "code",
   "execution_count": null,
   "metadata": {},
   "outputs": [],
   "source": [
    "csv_file = os.path.join(\"data_export_files/crude_2nd.csv\")\n",
    "crude_raw_df = pd.read_csv(csv_file)\n",
    "\n",
    "crude_df = crude_raw_df[[\"Date\", \"Open\", \"High\", \"Low\",\"Settle\",\"Volume\"]].copy()\n",
    "crude_df.head()"
   ]
  },
  {
   "cell_type": "code",
   "execution_count": null,
   "metadata": {},
   "outputs": [],
   "source": [
    "csv_file = os.path.join(\"data_export_files/natgas_2nd.csv\")\n",
    "natgas_raw_df = pd.read_csv(csv_file)\n",
    "\n",
    "natgas_df = natgas_raw_df[[\"Date\", \"Open\", \"High\", \"Low\",\"Settle\",\"Volume\"]].copy()\n",
    "natgas_df.head()"
   ]
  },
  {
   "cell_type": "code",
   "execution_count": null,
   "metadata": {},
   "outputs": [],
   "source": [
    "csv_file = os.path.join(\"data_export_files/corn_2nd.csv\")\n",
    "corn_raw_df = pd.read_csv(csv_file)\n",
    "\n",
    "corn_df = corn_raw_df[[\"Date\", \"Open\", \"High\", \"Low\",\"Settle\",\"Volume\"]].copy()\n",
    "corn_df.head()"
   ]
  },
  {
   "cell_type": "code",
   "execution_count": null,
   "metadata": {},
   "outputs": [],
   "source": [
    "csv_file = os.path.join(\"data_export_files/livecatt_2nd.csv\")\n",
    "livecatt_raw_df = pd.read_csv(csv_file)\n",
    "\n",
    "livecatt_df = livecatt_raw_df[[\"Date\", \"Open\", \"High\", \"Low\",\"Settle\",\"Volume\"]].copy()\n",
    "livecatt_df.head()"
   ]
  },
  {
   "cell_type": "code",
   "execution_count": null,
   "metadata": {},
   "outputs": [],
   "source": [
    "csv_file = os.path.join(\"data_export_files/K_Wheat_2nd.csv\")\n",
    "k_wheat_raw_df = pd.read_csv(csv_file)\n",
    "\n",
    "k_wheat_df = k_wheat_raw_df[[\"Date\", \"Open\", \"High\", \"Low\",\"Settle\",\"Volume\"]].copy()\n",
    "k_wheat_df.head()"
   ]
  },
  {
   "cell_type": "markdown",
   "metadata": {},
   "source": [
    "### St. Louis Federal Reserve"
   ]
  },
  {
   "cell_type": "code",
   "execution_count": null,
   "metadata": {},
   "outputs": [],
   "source": [
    "data = dpf.data(fred_api_key)"
   ]
  },
  {
   "cell_type": "code",
   "execution_count": null,
   "metadata": {},
   "outputs": [],
   "source": [
    "keys = [\"DBAA\", \"BAMLH0A3HYCEY\", \"USD3MTD156N\", \"DGS10\", \"T10Y2Y\", \"gdp\", \"gnp\"]\n",
    "\n",
    "\n",
    "df0 = data.series(\"AAA\")\n",
    "\n",
    "for key in keys:\n",
    "    df1 = data.series(key)\n",
    "    df0 = pd.merge(df0, df1, on=\"date\", how=\"outer\")\n",
    "      \n",
    "df0 = df0.reset_index()\n",
    "df0.head()"
   ]
  },
  {
   "cell_type": "code",
   "execution_count": null,
   "metadata": {},
   "outputs": [],
   "source": [
    "master_df = pd.DataFrame({\n",
    "    \"Date\": df0[\"date\"],\n",
    "    \"AAA Corp Yield\": df0[\"AAA\"],\n",
    "    \"BBB Corp Yield\": df0[\"DBAA\"],\n",
    "    \"CCC Corp High Yield\": df0[\"BAMLH0A3HYCEY\"],\n",
    "    \"3-Month LIBOR\": df0[\"USD3MTD156N\"],\n",
    "    \"10-Yr Treas Yld\": df0[\"DGS10\"],\n",
    "    \"10Yr - 2Yr Treas Yld\": df0[\"T10Y2Y\"],\n",
    "    \"US GDP\": df0[\"gdp\"],\n",
    "    \"US GNP\": df0[\"gnp\"]\n",
    "})\n",
    "\n",
    "master_df = master_df.sort_values(by=[\"Date\"])\n",
    "master_df.head(5)"
   ]
  },
  {
   "cell_type": "code",
   "execution_count": null,
   "metadata": {},
   "outputs": [],
   "source": [
    "column_value = master_df[master_df[\"Date\"] < \"2019-04-01\"].index\n",
    "master_df.drop(column_value, inplace=True)\n",
    "master_df.set_index(\"Date\", inplace=True)\n",
    "master_df.head()"
   ]
  },
  {
   "cell_type": "markdown",
   "metadata": {},
   "source": [
    "### Forexfactory"
   ]
  },
  {
   "cell_type": "code",
   "execution_count": null,
   "metadata": {},
   "outputs": [],
   "source": [
    "url = 'https://www.forexfactory.com/calendar?month=last'"
   ]
  },
  {
   "cell_type": "code",
   "execution_count": null,
   "metadata": {},
   "outputs": [],
   "source": [
    "response = requests.get(url)"
   ]
  },
  {
   "cell_type": "code",
   "execution_count": null,
   "metadata": {},
   "outputs": [],
   "source": [
    "data = response.text\n",
    "soup = bs(data, 'lxml')"
   ]
  },
  {
   "cell_type": "code",
   "execution_count": null,
   "metadata": {
    "scrolled": true
   },
   "outputs": [],
   "source": [
    "# Searching for elements in the table\n",
    "table = soup.find('table', class_='calendar__table')\n",
    "#print(table.prettify())"
   ]
  },
  {
   "cell_type": "code",
   "execution_count": null,
   "metadata": {},
   "outputs": [],
   "source": [
    "# Looping through the calendar table\n",
    "list_of_rows = []\n",
    "\n",
    "\n",
    "for row in table.find_all('tr', {'data-eventid':True}):\n",
    "    list_of_cells = []\n",
    "    \n",
    "    #Filtering high-impact events\n",
    "    for cell in row.find_all('td', class_=[\n",
    "          'calendar__cell calendar__date date',\n",
    "          'calendar__cell calendar__currency currency', \n",
    "          'calendar__cell calendar__event event', \n",
    "          'calendar__cell calendar__actual actual', \n",
    "          'calendar__cell calendar__forecast forecast', \n",
    "          'calendar__cell calendar__previous previous']):\n",
    "            \n",
    "        list_of_cells.append(cell.text)\n",
    "    list_of_rows.append(list_of_cells)\n"
   ]
  },
  {
   "cell_type": "code",
   "execution_count": null,
   "metadata": {},
   "outputs": [],
   "source": [
    "df_calendar = pd.DataFrame(list_of_rows, columns=['Date','Country','Event','Actual','Forecast','Previous'])\n",
    "df_calendar.iloc[:,1] = df_calendar.iloc[:,1].str.split('\\n').str[1]\n",
    "\n",
    "df_calendar = df_calendar.reset_index()\n",
    "df_calendar = df_calendar.set_index(df_calendar.columns[1])\n",
    "df_calendar = df_calendar.drop(columns=['index'])\n",
    "df_calendar"
   ]
  },
  {
   "cell_type": "code",
   "execution_count": null,
   "metadata": {},
   "outputs": [],
   "source": [
    "df_calendar"
   ]
  },
  {
   "cell_type": "code",
   "execution_count": null,
   "metadata": {},
   "outputs": [],
   "source": [
    "new_calendar = df_calendar"
   ]
  },
  {
   "cell_type": "code",
   "execution_count": null,
   "metadata": {},
   "outputs": [],
   "source": [
    "new_calendar = new_calendar.dropna(how='all')\n",
    "new_calendar"
   ]
  },
  {
   "cell_type": "code",
   "execution_count": null,
   "metadata": {},
   "outputs": [],
   "source": [
    "# Resetting the index\n",
    "new_calendar = new_calendar.reset_index()"
   ]
  },
  {
   "cell_type": "code",
   "execution_count": null,
   "metadata": {},
   "outputs": [],
   "source": [
    "# Applying the function to get rid of the day and convert the string to date\n",
    "new_calendar['Date'] = [date[4:] for date in new_calendar['Date'].to_list()]"
   ]
  },
  {
   "cell_type": "code",
   "execution_count": null,
   "metadata": {},
   "outputs": [],
   "source": [
    "# Check the uniqueness of the dates\n",
    "new_calendar['Date'].unique()"
   ]
  },
  {
   "cell_type": "code",
   "execution_count": null,
   "metadata": {},
   "outputs": [],
   "source": [
    "new_calendar"
   ]
  },
  {
   "cell_type": "code",
   "execution_count": null,
   "metadata": {},
   "outputs": [],
   "source": [
    "# Replacing blank cells with NaN\n",
    "new_calendar['Date'] = new_calendar['Date'].replace( '',np.nan).fillna(method='ffill')"
   ]
  },
  {
   "cell_type": "code",
   "execution_count": null,
   "metadata": {},
   "outputs": [],
   "source": [
    "new_calendar['Date'] = new_calendar['Date'] + '20'"
   ]
  },
  {
   "cell_type": "code",
   "execution_count": null,
   "metadata": {},
   "outputs": [],
   "source": [
    "new_calendar['Date']=  pd.to_datetime(new_calendar['Date'], format='%b %d %y')"
   ]
  },
  {
   "cell_type": "code",
   "execution_count": null,
   "metadata": {},
   "outputs": [],
   "source": [
    "new_calendar"
   ]
  },
  {
   "cell_type": "code",
   "execution_count": null,
   "metadata": {},
   "outputs": [],
   "source": [
    "new_calendar_group = new_calendar.groupby([\"Date\", \"Country\", \"Event\"])\n",
    "#new_calendar_group.first().head(50)"
   ]
  },
  {
   "cell_type": "code",
   "execution_count": null,
   "metadata": {},
   "outputs": [],
   "source": [
    "# Setting up the index\n",
    "#new_calendar.set_index('Date')"
   ]
  },
  {
   "cell_type": "markdown",
   "metadata": {},
   "source": [
    "## More Transforming and Load to MongoDB\n",
    "\n",
    "### Create MongoDB"
   ]
  },
  {
   "cell_type": "code",
   "execution_count": null,
   "metadata": {},
   "outputs": [],
   "source": [
    "conn = 'mongodb://localhost:27017'\n",
    "client = pymongo.MongoClient(conn)\n",
    "\n",
    "# Define the 'Economics' database in Mongo\n",
    "db = client.economics_db"
   ]
  },
  {
   "cell_type": "code",
   "execution_count": null,
   "metadata": {},
   "outputs": [],
   "source": [
    "# Declare the collections\n",
    "collection_commod_copper = db.commodities_copper\n",
    "collection_commod_gold = db.commodities_gold\n",
    "collection_commod_silver = db.commodities_silver\n",
    "collection_commod_crude = db.commodities_crude\n",
    "collection_commod_natgas = db.commodities_natgas\n",
    "collection_commod_corn = db.commodities_corn\n",
    "collection_commod_livecatt = db.commodities_livecatt\n",
    "collection_commod_wheat = db.commodities_wheat\n",
    "collection_fed = db.fed_data\n",
    "collection_events = db.event_data"
   ]
  },
  {
   "cell_type": "markdown",
   "metadata": {},
   "source": [
    "### Quandl"
   ]
  },
  {
   "cell_type": "code",
   "execution_count": null,
   "metadata": {},
   "outputs": [],
   "source": [
    "#setindex on other df's \n",
    "copper_df = copper_df.set_index(\"Date\")\n",
    "gold_df = gold_df.set_index(\"Date\")\n",
    "silver_df = silver_df.set_index(\"Date\")\n",
    "crude_df = crude_df.set_index(\"Date\")\n",
    "natgas_df = natgas_df.set_index(\"Date\")\n",
    "corn_df = corn_df.set_index(\"Date\")\n",
    "livecatt_df = livecatt_df.set_index(\"Date\")\n",
    "k_wheat_df = k_wheat_df.set_index(\"Date\")"
   ]
  },
  {
   "cell_type": "code",
   "execution_count": null,
   "metadata": {},
   "outputs": [],
   "source": [
    "#create additional dictionaries for mongo load\n",
    "#index in () is how you order this\n",
    "copper_dict = copper_df.to_dict(\"index\")\n",
    "gold_dict = gold_df.to_dict(\"index\")\n",
    "silver_dict = silver_df.to_dict(\"index\")\n",
    "crude_dict = crude_df.to_dict(\"index\")\n",
    "natgas_dict = natgas_df.to_dict(\"index\")\n",
    "corn_dict = corn_df.to_dict(\"index\")\n",
    "livecatt_dict = livecatt_df.to_dict(\"index\")\n",
    "k_wheat_dict = k_wheat_df.to_dict(\"index\")"
   ]
  },
  {
   "cell_type": "code",
   "execution_count": null,
   "metadata": {},
   "outputs": [],
   "source": [
    "#load dict to mongo\n",
    "collection_commod_copper.insert_many([{str(k):b} for k, b in copper_dict.items()])"
   ]
  },
  {
   "cell_type": "code",
   "execution_count": null,
   "metadata": {},
   "outputs": [],
   "source": [
    "#load dict to mongo\n",
    "collection_commod_gold.insert_many([{str(k):b} for k, b in gold_dict.items()])"
   ]
  },
  {
   "cell_type": "code",
   "execution_count": null,
   "metadata": {},
   "outputs": [],
   "source": [
    "#load dict to mongo\n",
    "collection_commod_silver.insert_many([{str(k):b} for k, b in silver_dict.items()])"
   ]
  },
  {
   "cell_type": "code",
   "execution_count": null,
   "metadata": {},
   "outputs": [],
   "source": [
    "#load dict to mongo\n",
    "collection_commod_crude.insert_many([{str(k):b} for k, b in crude_dict.items()])"
   ]
  },
  {
   "cell_type": "code",
   "execution_count": null,
   "metadata": {},
   "outputs": [],
   "source": [
    "#load dict to mongo\n",
    "collection_commod_natgas.insert_many([{str(k):b} for k, b in natgas_dict.items()])"
   ]
  },
  {
   "cell_type": "code",
   "execution_count": null,
   "metadata": {},
   "outputs": [],
   "source": [
    "#load dict to mongo\n",
    "collection_commod_corn.insert_many([{str(k):b} for k, b in corn_dict.items()])"
   ]
  },
  {
   "cell_type": "code",
   "execution_count": null,
   "metadata": {},
   "outputs": [],
   "source": [
    "#load dict to mongo\n",
    "collection_commod_livecatt.insert_many([{str(k):b} for k, b in livecatt_dict.items()])"
   ]
  },
  {
   "cell_type": "code",
   "execution_count": null,
   "metadata": {},
   "outputs": [],
   "source": [
    "#load dict to mongo\n",
    "collection_commod_wheat.insert_many([{str(k):b} for k, b in k_wheat_dict.items()])"
   ]
  },
  {
   "cell_type": "markdown",
   "metadata": {},
   "source": [
    "### St. Louis Federal Reserve"
   ]
  },
  {
   "cell_type": "code",
   "execution_count": null,
   "metadata": {},
   "outputs": [],
   "source": [
    "master_df_dict = master_df.to_dict(\"index\")"
   ]
  },
  {
   "cell_type": "code",
   "execution_count": null,
   "metadata": {},
   "outputs": [],
   "source": [
    "first = dict(list(master_df_dict.items())[0:2])\n",
    "first"
   ]
  },
  {
   "cell_type": "code",
   "execution_count": null,
   "metadata": {},
   "outputs": [],
   "source": [
    "collection_fed.insert_many([{str(k):b} for k, b in master_df_dict.items()])"
   ]
  },
  {
   "cell_type": "code",
   "execution_count": null,
   "metadata": {},
   "outputs": [],
   "source": [
    "for doc in collection_fed.find()[0:3]:\n",
    "    print(doc)"
   ]
  },
  {
   "cell_type": "markdown",
   "metadata": {},
   "source": [
    "### Forexfactory"
   ]
  },
  {
   "cell_type": "code",
   "execution_count": null,
   "metadata": {},
   "outputs": [],
   "source": [
    "# Converting the dataframe to a calendar \n",
    "event_data_dict = new_calendar.to_dict(\"index\")"
   ]
  },
  {
   "cell_type": "code",
   "execution_count": null,
   "metadata": {},
   "outputs": [],
   "source": [
    "second = dict(list(event_data_dict.items())[0:2])\n",
    "second"
   ]
  },
  {
   "cell_type": "code",
   "execution_count": null,
   "metadata": {},
   "outputs": [],
   "source": [
    "collection_events.insert_many([{str(k):b} for k, b in event_data_dict.items()])"
   ]
  },
  {
   "cell_type": "code",
   "execution_count": null,
   "metadata": {},
   "outputs": [],
   "source": [
    "for doc in collection_events.find()[0:3]:\n",
    "    print(doc)"
   ]
  },
  {
   "cell_type": "code",
   "execution_count": null,
   "metadata": {},
   "outputs": [],
   "source": []
  }
 ],
 "metadata": {
  "kernelspec": {
   "display_name": "Python 3",
   "language": "python",
   "name": "python3"
  },
  "language_info": {
   "codemirror_mode": {
    "name": "ipython",
    "version": 3
   },
   "file_extension": ".py",
   "mimetype": "text/x-python",
   "name": "python",
   "nbconvert_exporter": "python",
   "pygments_lexer": "ipython3",
   "version": "3.7.4"
  }
 },
 "nbformat": 4,
 "nbformat_minor": 2
}
